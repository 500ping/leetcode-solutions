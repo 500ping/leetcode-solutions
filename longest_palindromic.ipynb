{
 "cells": [
  {
   "cell_type": "code",
   "execution_count": 1,
   "metadata": {},
   "outputs": [],
   "source": [
    "s = \"abcba\""
   ]
  },
  {
   "cell_type": "code",
   "execution_count": 2,
   "metadata": {},
   "outputs": [],
   "source": [
    "def longestPalindrome(s: str) -> str:\n",
    "    result = s[0]\n",
    "    for i, c in enumerate(s):\n",
    "        substring = c\n",
    "        for n_c in s[i+1:]:\n",
    "            substring += n_c\n",
    "            if len(substring) <= len(result):\n",
    "                continue\n",
    "            if substring == substring[::-1]:\n",
    "                result = substring \n",
    "    return result "
   ]
  },
  {
   "cell_type": "code",
   "execution_count": 3,
   "metadata": {},
   "outputs": [],
   "source": [
    "# def longestPalindrome(s: str) -> str:\n",
    "#     result = ''\n",
    "#     for i in range(len(s)):\n",
    "#         for j in range(len(s), i, -1):\n",
    "#             if len(result) >= j - i:\n",
    "#                 break\n",
    "#             if s[i:j] == s[i:j][::-1]:\n",
    "#                 result = s[i:j]\n",
    "#                 break\n",
    "#     return result"
   ]
  },
  {
   "cell_type": "code",
   "execution_count": 4,
   "metadata": {},
   "outputs": [
    {
     "data": {
      "text/plain": [
       "'anana'"
      ]
     },
     "execution_count": 4,
     "metadata": {},
     "output_type": "execute_result"
    }
   ],
   "source": [
    "s = 'bananas'\n",
    "longestPalindrome(s)"
   ]
  },
  {
   "cell_type": "code",
   "execution_count": null,
   "metadata": {},
   "outputs": [],
   "source": []
  },
  {
   "cell_type": "code",
   "execution_count": null,
   "metadata": {},
   "outputs": [],
   "source": []
  }
 ],
 "metadata": {
  "kernelspec": {
   "display_name": "Python 3",
   "language": "python",
   "name": "python3"
  },
  "language_info": {
   "codemirror_mode": {
    "name": "ipython",
    "version": 3
   },
   "file_extension": ".py",
   "mimetype": "text/x-python",
   "name": "python",
   "nbconvert_exporter": "python",
   "pygments_lexer": "ipython3",
   "version": "3.8.5"
  }
 },
 "nbformat": 4,
 "nbformat_minor": 4
}
