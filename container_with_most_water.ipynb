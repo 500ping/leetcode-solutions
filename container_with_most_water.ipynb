{
 "cells": [
  {
   "cell_type": "code",
   "execution_count": 3,
   "metadata": {},
   "outputs": [],
   "source": [
    "# def maxArea(height):\n",
    "#     max_area = 0\n",
    "#     for i in range(len(height) - 1):\n",
    "#         for j in range(i+1, len(height)):\n",
    "#             print(f'{i} - {j}')\n",
    "#             if height[i] >= height[j]:\n",
    "#                 if (height[j] * (j - i)) > max_area:\n",
    "#                     print('asd')\n",
    "#                     max_area = height[j] * (j - i)\n",
    "#             else:\n",
    "#                 if (height[i] * (j - i)) > max_area:\n",
    "#                     max_area = height[i] * (j - i)\n",
    "#     return max_area\n",
    "\n",
    "def maxArea(height):\n",
    "    max_area = 0\n",
    "    first = 0\n",
    "    last = len(height) - 1\n",
    "    while first < last:\n",
    "        area = min(height[first], height[last]) * (last - first)\n",
    "        max_area = area if area > max_area else max_area\n",
    "        if height[first] >= height[last]:\n",
    "            last -= 1\n",
    "        else:\n",
    "            first += 1\n",
    "    return max_area"
   ]
  },
  {
   "cell_type": "code",
   "execution_count": 4,
   "metadata": {},
   "outputs": [
    {
     "data": {
      "text/plain": [
       "49"
      ]
     },
     "execution_count": 4,
     "metadata": {},
     "output_type": "execute_result"
    }
   ],
   "source": [
    "height = [1,8,6,2,5,4,8,3,7]\n",
    "maxArea(height)"
   ]
  },
  {
   "cell_type": "code",
   "execution_count": null,
   "metadata": {},
   "outputs": [],
   "source": [
    "max(1, 2)"
   ]
  },
  {
   "cell_type": "code",
   "execution_count": null,
   "metadata": {},
   "outputs": [],
   "source": []
  }
 ],
 "metadata": {
  "kernelspec": {
   "display_name": "Python 3",
   "language": "python",
   "name": "python3"
  },
  "language_info": {
   "codemirror_mode": {
    "name": "ipython",
    "version": 3
   },
   "file_extension": ".py",
   "mimetype": "text/x-python",
   "name": "python",
   "nbconvert_exporter": "python",
   "pygments_lexer": "ipython3",
   "version": "3.8.5"
  }
 },
 "nbformat": 4,
 "nbformat_minor": 4
}
