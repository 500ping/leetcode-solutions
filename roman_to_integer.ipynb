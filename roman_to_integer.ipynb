{
 "cells": [
  {
   "cell_type": "code",
   "execution_count": 9,
   "metadata": {},
   "outputs": [],
   "source": [
    "def romanToInt(s: str) -> int:\n",
    "    roman_nums = {\n",
    "        'I': 1,\n",
    "        'V': 5,\n",
    "        'X': 10,\n",
    "        'L': 50,\n",
    "        'C': 100,\n",
    "        'D': 500,\n",
    "        'M': 1000,\n",
    "    }\n",
    "    \n",
    "    roman_nums_special = {\n",
    "        \"IV\":4, \n",
    "        \"IX\":9, \n",
    "        \"XL\":40, \n",
    "        \"XC\":90, \n",
    "        \"CD\":400, \n",
    "        \"CM\":900\n",
    "    }\n",
    "    \n",
    "    if s in roman_nums.keys():\n",
    "        return roman_nums[s]\n",
    "    \n",
    "    if s in roman_nums_special.keys():\n",
    "        return roman_nums_special[s]\n",
    "    \n",
    "    result = 0;\n",
    "    \n",
    "    for symbol in roman_nums_special.keys():\n",
    "        if symbol in s:\n",
    "            result += roman_nums_special[symbol]\n",
    "            s = s.replace(symbol, '')\n",
    "    \n",
    "    for c in s:\n",
    "        result += roman_nums[c]\n",
    "    \n",
    "    return result"
   ]
  },
  {
   "cell_type": "code",
   "execution_count": 14,
   "metadata": {},
   "outputs": [
    {
     "data": {
      "text/plain": [
       "58"
      ]
     },
     "execution_count": 14,
     "metadata": {},
     "output_type": "execute_result"
    }
   ],
   "source": [
    "s= 'LVIII'\n",
    "romanToInt(s)"
   ]
  },
  {
   "cell_type": "code",
   "execution_count": null,
   "metadata": {},
   "outputs": [],
   "source": []
  }
 ],
 "metadata": {
  "kernelspec": {
   "display_name": "Python 3",
   "language": "python",
   "name": "python3"
  },
  "language_info": {
   "codemirror_mode": {
    "name": "ipython",
    "version": 3
   },
   "file_extension": ".py",
   "mimetype": "text/x-python",
   "name": "python",
   "nbconvert_exporter": "python",
   "pygments_lexer": "ipython3",
   "version": "3.8.5"
  }
 },
 "nbformat": 4,
 "nbformat_minor": 4
}
