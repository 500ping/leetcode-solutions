{
 "cells": [
  {
   "cell_type": "code",
   "execution_count": 1,
   "metadata": {},
   "outputs": [],
   "source": [
    "def threeSum(nums, target):\n",
    "    nums.sort()\n",
    "    result = set()\n",
    "    for i in range(len(nums)):\n",
    "        l = i + 1\n",
    "        r = len(nums) - 1\n",
    "        new_target = target - nums[i]\n",
    "        while l < r:\n",
    "            if nums[l] + nums[r] == new_target:\n",
    "                result.add((nums[i], nums[l], nums[r]))\n",
    "                l += 1\n",
    "                r -= 1\n",
    "            elif nums[l] + nums[r] < new_target:\n",
    "                l += 1\n",
    "            else:\n",
    "                r -= 1\n",
    "    return list(result)"
   ]
  },
  {
   "cell_type": "code",
   "execution_count": 2,
   "metadata": {},
   "outputs": [],
   "source": [
    "def fourSum(nums, target):\n",
    "    result = set()\n",
    "    \n",
    "    if len(nums) < 4:\n",
    "        return []\n",
    "    \n",
    "    nums.sort()\n",
    "    print(nums)\n",
    "    \n",
    "    for i, num in enumerate(nums):\n",
    "        temp = threeSum(nums[i+1:], target - num)\n",
    "        for t in temp:\n",
    "            t = (num,) + t\n",
    "            result.add(t)\n",
    "        \n",
    "    return list(result)"
   ]
  },
  {
   "cell_type": "code",
   "execution_count": 3,
   "metadata": {},
   "outputs": [],
   "source": [
    "nums = [-1,-5,-5,-3,2,5,0,4]\n",
    "target = -7"
   ]
  },
  {
   "cell_type": "code",
   "execution_count": 5,
   "metadata": {},
   "outputs": [
    {
     "name": "stdout",
     "output_type": "stream",
     "text": [
      "[-5, -5, -3, -1, 0, 2, 4, 5]\n"
     ]
    },
    {
     "data": {
      "text/plain": [
       "[(-5, -3, -1, 2), (-5, -5, -1, 4)]"
      ]
     },
     "execution_count": 5,
     "metadata": {},
     "output_type": "execute_result"
    }
   ],
   "source": [
    "fourSum(nums, target)"
   ]
  },
  {
   "cell_type": "code",
   "execution_count": null,
   "metadata": {},
   "outputs": [],
   "source": []
  },
  {
   "cell_type": "code",
   "execution_count": null,
   "metadata": {},
   "outputs": [],
   "source": []
  }
 ],
 "metadata": {
  "kernelspec": {
   "display_name": "Python 3",
   "language": "python",
   "name": "python3"
  },
  "language_info": {
   "codemirror_mode": {
    "name": "ipython",
    "version": 3
   },
   "file_extension": ".py",
   "mimetype": "text/x-python",
   "name": "python",
   "nbconvert_exporter": "python",
   "pygments_lexer": "ipython3",
   "version": "3.8.5"
  }
 },
 "nbformat": 4,
 "nbformat_minor": 4
}
