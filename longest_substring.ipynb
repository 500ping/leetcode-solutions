{
 "cells": [
  {
   "cell_type": "code",
   "execution_count": 1,
   "metadata": {},
   "outputs": [
    {
     "data": {
      "text/plain": [
       "['a', 'b', 'c', 'a', 'b', 'c', 'b', 'b']"
      ]
     },
     "execution_count": 1,
     "metadata": {},
     "output_type": "execute_result"
    }
   ],
   "source": [
    "s = \"abcabcbb\"\n",
    "l = []\n",
    "l[:0] = s\n",
    "l"
   ]
  },
  {
   "cell_type": "code",
   "execution_count": 2,
   "metadata": {},
   "outputs": [
    {
     "name": "stdout",
     "output_type": "stream",
     "text": [
      "b\n",
      "c\n",
      "a\n",
      "b\n",
      "c\n",
      "b\n",
      "b\n"
     ]
    }
   ],
   "source": [
    "for i, c in enumerate(s[:-1]):\n",
    "    print(s[i+1])"
   ]
  },
  {
   "cell_type": "code",
   "execution_count": 3,
   "metadata": {},
   "outputs": [
    {
     "name": "stdout",
     "output_type": "stream",
     "text": [
      "abc\n",
      "bca\n",
      "cab\n",
      "abc\n",
      "bc\n",
      "cb\n",
      "b\n",
      "[3, 3, 3, 3, 2, 2, 1]\n"
     ]
    },
    {
     "data": {
      "text/plain": [
       "'abc'"
      ]
     },
     "execution_count": 3,
     "metadata": {},
     "output_type": "execute_result"
    }
   ],
   "source": [
    "h = []\n",
    "for i, c in enumerate(s[:-1]):\n",
    "    substring = ''\n",
    "    substring += c\n",
    "    for n_c in s[i+1:]:\n",
    "        if n_c not in substring:\n",
    "            substring += n_c\n",
    "        else:\n",
    "            break\n",
    "    h.append(len(substring))\n",
    "    print(substring)\n",
    "print(h)\n",
    "h.index(max(h))\n",
    "s[h.index(max(h)): h[h.index(max(h))]]"
   ]
  },
  {
   "cell_type": "code",
   "execution_count": 4,
   "metadata": {},
   "outputs": [],
   "source": [
    "def lengthOfLongestSubstring(s: str) -> int:\n",
    "    if len(s) <= 1:\n",
    "        return len(s)\n",
    "    h = []\n",
    "    for i, c in enumerate(s[:-1]):\n",
    "        substring = ''\n",
    "        substring += c\n",
    "        for n_c in s[i+1:]:\n",
    "            if n_c not in substring:\n",
    "                substring += n_c\n",
    "            else:\n",
    "                break\n",
    "        h.append(len(substring))\n",
    "    return max(h)"
   ]
  },
  {
   "cell_type": "code",
   "execution_count": 5,
   "metadata": {},
   "outputs": [
    {
     "data": {
      "text/plain": [
       "1"
      ]
     },
     "execution_count": 5,
     "metadata": {},
     "output_type": "execute_result"
    }
   ],
   "source": [
    "lengthOfLongestSubstring('w')"
   ]
  },
  {
   "cell_type": "code",
   "execution_count": 6,
   "metadata": {},
   "outputs": [
    {
     "data": {
      "text/plain": [
       "3"
      ]
     },
     "execution_count": 6,
     "metadata": {},
     "output_type": "execute_result"
    }
   ],
   "source": [
    "lengthOfLongestSubstring('abcabcbb')"
   ]
  },
  {
   "cell_type": "code",
   "execution_count": null,
   "metadata": {},
   "outputs": [],
   "source": []
  }
 ],
 "metadata": {
  "kernelspec": {
   "display_name": "Python 3",
   "language": "python",
   "name": "python3"
  },
  "language_info": {
   "codemirror_mode": {
    "name": "ipython",
    "version": 3
   },
   "file_extension": ".py",
   "mimetype": "text/x-python",
   "name": "python",
   "nbconvert_exporter": "python",
   "pygments_lexer": "ipython3",
   "version": "3.8.5"
  }
 },
 "nbformat": 4,
 "nbformat_minor": 4
}
