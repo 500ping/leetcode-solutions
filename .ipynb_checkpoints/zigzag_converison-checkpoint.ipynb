{
 "cells": [
  {
   "cell_type": "code",
   "execution_count": 19,
   "metadata": {},
   "outputs": [],
   "source": [
    "def convert(s: str, numRows: int) -> str:\n",
    "    length = len(s)\n",
    "    \n",
    "    if numRows <= 1 or numRows > length:\n",
    "        return s\n",
    "    \n",
    "    zigzag_s = []\n",
    "    interval = 2 * (numRows - 1)\n",
    "    \n",
    "    for i in range(numRows):\n",
    "        step = interval - 2 * i\n",
    "        for j in range(i, length, interval):\n",
    "            print(j)\n",
    "            zigzag_s.append(s[j])\n",
    "            if i != 0 and i != numRows - 1 and j + step < length:\n",
    "                print(j, j+step)\n",
    "                zigzag_s.append(s[j + step])\n",
    "                \n",
    "    new_s = ''.join(zigzag_s)\n",
    "    return new_s"
   ]
  },
  {
   "cell_type": "code",
   "execution_count": 20,
   "metadata": {},
   "outputs": [
    {
     "data": {
      "text/plain": [
       "14"
      ]
     },
     "execution_count": 20,
     "metadata": {},
     "output_type": "execute_result"
    }
   ],
   "source": [
    "s = \"PAYPALISHIRING\"\n",
    "len(s)"
   ]
  },
  {
   "cell_type": "code",
   "execution_count": 21,
   "metadata": {},
   "outputs": [
    {
     "name": "stdout",
     "output_type": "stream",
     "text": [
      "0\n",
      "6\n",
      "12\n",
      "1\n",
      "1 5\n",
      "7\n",
      "7 11\n",
      "13\n",
      "2\n",
      "2 4\n",
      "8\n",
      "8 10\n",
      "3\n",
      "9\n"
     ]
    },
    {
     "data": {
      "text/plain": [
       "'PINALSIGYAHRPI'"
      ]
     },
     "execution_count": 21,
     "metadata": {},
     "output_type": "execute_result"
    }
   ],
   "source": [
    "convert(s, 4)"
   ]
  },
  {
   "cell_type": "code",
   "execution_count": null,
   "metadata": {},
   "outputs": [],
   "source": []
  }
 ],
 "metadata": {
  "kernelspec": {
   "display_name": "Python 3",
   "language": "python",
   "name": "python3"
  },
  "language_info": {
   "codemirror_mode": {
    "name": "ipython",
    "version": 3
   },
   "file_extension": ".py",
   "mimetype": "text/x-python",
   "name": "python",
   "nbconvert_exporter": "python",
   "pygments_lexer": "ipython3",
   "version": "3.8.5"
  }
 },
 "nbformat": 4,
 "nbformat_minor": 4
}
