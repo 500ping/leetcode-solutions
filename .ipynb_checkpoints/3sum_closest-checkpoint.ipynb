{
 "cells": [
  {
   "cell_type": "code",
   "execution_count": 4,
   "metadata": {},
   "outputs": [],
   "source": [
    "def threeSumClosest(nums, target):\n",
    "    result = None\n",
    "    nums.sort()\n",
    "    \n",
    "    for i in range(len(nums)):\n",
    "        l = i + 1\n",
    "        r = len(nums) - 1\n",
    "        while l < r:\n",
    "            print(nums[i], nums[l], nums[r])\n",
    "            three_sum = nums[i] + nums[l] + nums[r]\n",
    "            \n",
    "            if result == None:\n",
    "                result = three_sum\n",
    "            elif abs(three_sum - target) <= abs(result - target):\n",
    "                result = three_sum\n",
    "                \n",
    "            if three_sum <= target:\n",
    "                l += 1\n",
    "            else:\n",
    "                r -= 1\n",
    "                \n",
    "            print(three_sum)\n",
    "            print('--', result)\n",
    "                \n",
    "            if result == target:\n",
    "                return result\n",
    "\n",
    "    return result"
   ]
  },
  {
   "cell_type": "code",
   "execution_count": 7,
   "metadata": {},
   "outputs": [
    {
     "name": "stdout",
     "output_type": "stream",
     "text": [
      "[1, 2, 4, 8, 16, 32, 64, 128]\n",
      "1 2 128\n",
      "131\n",
      "-- 131\n",
      "1 2 64\n",
      "67\n",
      "-- 67\n",
      "1 4 64\n",
      "69\n",
      "-- 69\n",
      "1 8 64\n",
      "73\n",
      "-- 73\n",
      "1 16 64\n",
      "81\n",
      "-- 81\n",
      "1 32 64\n",
      "97\n",
      "-- 81\n",
      "2 4 128\n",
      "134\n",
      "-- 81\n",
      "2 4 64\n",
      "70\n",
      "-- 81\n",
      "2 8 64\n",
      "74\n",
      "-- 81\n",
      "2 16 64\n",
      "82\n",
      "-- 82\n"
     ]
    },
    {
     "data": {
      "text/plain": [
       "82"
      ]
     },
     "execution_count": 7,
     "metadata": {},
     "output_type": "execute_result"
    }
   ],
   "source": [
    "nums = [1,2,4,8,16,32,64,128]\n",
    "print(sorted(nums))\n",
    "target = 82\n",
    "threeSumClosest(nums, target)"
   ]
  },
  {
   "cell_type": "code",
   "execution_count": null,
   "metadata": {},
   "outputs": [],
   "source": []
  },
  {
   "cell_type": "code",
   "execution_count": null,
   "metadata": {},
   "outputs": [],
   "source": []
  }
 ],
 "metadata": {
  "kernelspec": {
   "display_name": "Python 3",
   "language": "python",
   "name": "python3"
  },
  "language_info": {
   "codemirror_mode": {
    "name": "ipython",
    "version": 3
   },
   "file_extension": ".py",
   "mimetype": "text/x-python",
   "name": "python",
   "nbconvert_exporter": "python",
   "pygments_lexer": "ipython3",
   "version": "3.8.5"
  }
 },
 "nbformat": 4,
 "nbformat_minor": 4
}
