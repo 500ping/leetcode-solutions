{
 "cells": [
  {
   "cell_type": "code",
   "execution_count": 27,
   "metadata": {},
   "outputs": [],
   "source": [
    "def myAtoi(s: str) -> int:\n",
    "    s = s.strip()\n",
    "    \n",
    "    if len(s) == 0:\n",
    "        return 0\n",
    "    \n",
    "    num_in_s = ''\n",
    "    for i, c in enumerate(s):\n",
    "        if i == 0:\n",
    "           if c == '+' or c == '-':\n",
    "                num_in_s += c\n",
    "                continue\n",
    "                \n",
    "        if c.isnumeric():\n",
    "            num_in_s += c\n",
    "        else:\n",
    "            break\n",
    "            \n",
    "    try:\n",
    "        num_in_s = int(num_in_s)\n",
    "    except:\n",
    "        return 0\n",
    "            \n",
    "    if num_in_s < -2**31:\n",
    "        return -2**31\n",
    "    elif num_in_s > 2**31 - 1:\n",
    "        return 2**31 - 1\n",
    "    else:\n",
    "        return num_in_s"
   ]
  },
  {
   "cell_type": "code",
   "execution_count": 28,
   "metadata": {},
   "outputs": [
    {
     "data": {
      "text/plain": [
       "-5"
      ]
     },
     "execution_count": 28,
     "metadata": {},
     "output_type": "execute_result"
    }
   ],
   "source": [
    "myAtoi(\"-5-\")"
   ]
  },
  {
   "cell_type": "code",
   "execution_count": 14,
   "metadata": {},
   "outputs": [
    {
     "data": {
      "text/plain": [
       "False"
      ]
     },
     "execution_count": 14,
     "metadata": {},
     "output_type": "execute_result"
    }
   ],
   "source": [
    "'-42'.isnumeric()"
   ]
  },
  {
   "cell_type": "code",
   "execution_count": 20,
   "metadata": {},
   "outputs": [
    {
     "data": {
      "text/plain": [
       "-12"
      ]
     },
     "execution_count": 20,
     "metadata": {},
     "output_type": "execute_result"
    }
   ],
   "source": [
    "int('-0012')"
   ]
  },
  {
   "cell_type": "code",
   "execution_count": null,
   "metadata": {},
   "outputs": [],
   "source": []
  }
 ],
 "metadata": {
  "kernelspec": {
   "display_name": "Python 3",
   "language": "python",
   "name": "python3"
  },
  "language_info": {
   "codemirror_mode": {
    "name": "ipython",
    "version": 3
   },
   "file_extension": ".py",
   "mimetype": "text/x-python",
   "name": "python",
   "nbconvert_exporter": "python",
   "pygments_lexer": "ipython3",
   "version": "3.8.5"
  }
 },
 "nbformat": 4,
 "nbformat_minor": 4
}
