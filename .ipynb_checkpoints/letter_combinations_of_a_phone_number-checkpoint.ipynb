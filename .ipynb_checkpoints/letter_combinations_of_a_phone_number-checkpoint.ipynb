{
 "cells": [
  {
   "cell_type": "code",
   "execution_count": 1,
   "metadata": {},
   "outputs": [],
   "source": [
    "qwerty_nums = {\n",
    "    '2': ('a', 'b', 'c'),\n",
    "    '3': ('d', 'e', 'f'),\n",
    "    '4': ('g', 'h', 'i'),\n",
    "    '5': ('j', 'k', 'l'),\n",
    "    '6': ('m', 'n', 'o'),\n",
    "    '7': ('p', 'q', 'r', 's'),\n",
    "    '8': ('t', 'u', 'v'),\n",
    "    '9': ('w', 'x', 'y', 'z'),\n",
    "}"
   ]
  },
  {
   "cell_type": "code",
   "execution_count": 2,
   "metadata": {},
   "outputs": [],
   "source": [
    "def letterCombinations(digits: str):\n",
    "    result = []\n",
    "    \n",
    "    if len(digits) == 0:\n",
    "        return result\n",
    "    \n",
    "    for c in digits:\n",
    "        result.append(qwerty_nums[c])\n",
    "        \n",
    "    import numpy\n",
    "    result = [''.join(list(x)) for x in numpy.array(numpy.meshgrid(*result)).T.reshape(-1,len(result))]\n",
    "        \n",
    "    return result"
   ]
  },
  {
   "cell_type": "code",
   "execution_count": 3,
   "metadata": {},
   "outputs": [
    {
     "data": {
      "text/plain": [
       "['adg',\n",
       " 'aeg',\n",
       " 'afg',\n",
       " 'bdg',\n",
       " 'beg',\n",
       " 'bfg',\n",
       " 'cdg',\n",
       " 'ceg',\n",
       " 'cfg',\n",
       " 'adh',\n",
       " 'aeh',\n",
       " 'afh',\n",
       " 'bdh',\n",
       " 'beh',\n",
       " 'bfh',\n",
       " 'cdh',\n",
       " 'ceh',\n",
       " 'cfh',\n",
       " 'adi',\n",
       " 'aei',\n",
       " 'afi',\n",
       " 'bdi',\n",
       " 'bei',\n",
       " 'bfi',\n",
       " 'cdi',\n",
       " 'cei',\n",
       " 'cfi']"
      ]
     },
     "execution_count": 3,
     "metadata": {},
     "output_type": "execute_result"
    }
   ],
   "source": [
    "letterCombinations('234')"
   ]
  },
  {
   "cell_type": "code",
   "execution_count": 4,
   "metadata": {},
   "outputs": [],
   "source": [
    "tet = [['a', 'b', 'c'], ['d', 'e', 'f'], ['g', 'h', 'i']]"
   ]
  },
  {
   "cell_type": "code",
   "execution_count": 5,
   "metadata": {},
   "outputs": [],
   "source": [
    "import numpy"
   ]
  },
  {
   "cell_type": "code",
   "execution_count": 6,
   "metadata": {},
   "outputs": [
    {
     "data": {
      "text/plain": [
       "[array([[['a', 'a', 'a'],\n",
       "         ['b', 'b', 'b'],\n",
       "         ['c', 'c', 'c']],\n",
       " \n",
       "        [['a', 'a', 'a'],\n",
       "         ['b', 'b', 'b'],\n",
       "         ['c', 'c', 'c']],\n",
       " \n",
       "        [['a', 'a', 'a'],\n",
       "         ['b', 'b', 'b'],\n",
       "         ['c', 'c', 'c']]], dtype='<U1'),\n",
       " array([[['d', 'd', 'd'],\n",
       "         ['d', 'd', 'd'],\n",
       "         ['d', 'd', 'd']],\n",
       " \n",
       "        [['e', 'e', 'e'],\n",
       "         ['e', 'e', 'e'],\n",
       "         ['e', 'e', 'e']],\n",
       " \n",
       "        [['f', 'f', 'f'],\n",
       "         ['f', 'f', 'f'],\n",
       "         ['f', 'f', 'f']]], dtype='<U1'),\n",
       " array([[['g', 'h', 'i'],\n",
       "         ['g', 'h', 'i'],\n",
       "         ['g', 'h', 'i']],\n",
       " \n",
       "        [['g', 'h', 'i'],\n",
       "         ['g', 'h', 'i'],\n",
       "         ['g', 'h', 'i']],\n",
       " \n",
       "        [['g', 'h', 'i'],\n",
       "         ['g', 'h', 'i'],\n",
       "         ['g', 'h', 'i']]], dtype='<U1')]"
      ]
     },
     "execution_count": 6,
     "metadata": {},
     "output_type": "execute_result"
    }
   ],
   "source": [
    "numpy.meshgrid(*tet)"
   ]
  },
  {
   "cell_type": "code",
   "execution_count": 7,
   "metadata": {},
   "outputs": [
    {
     "data": {
      "text/plain": [
       "array([[[['a', 'a', 'a'],\n",
       "         ['b', 'b', 'b'],\n",
       "         ['c', 'c', 'c']],\n",
       "\n",
       "        [['a', 'a', 'a'],\n",
       "         ['b', 'b', 'b'],\n",
       "         ['c', 'c', 'c']],\n",
       "\n",
       "        [['a', 'a', 'a'],\n",
       "         ['b', 'b', 'b'],\n",
       "         ['c', 'c', 'c']]],\n",
       "\n",
       "\n",
       "       [[['d', 'd', 'd'],\n",
       "         ['d', 'd', 'd'],\n",
       "         ['d', 'd', 'd']],\n",
       "\n",
       "        [['e', 'e', 'e'],\n",
       "         ['e', 'e', 'e'],\n",
       "         ['e', 'e', 'e']],\n",
       "\n",
       "        [['f', 'f', 'f'],\n",
       "         ['f', 'f', 'f'],\n",
       "         ['f', 'f', 'f']]],\n",
       "\n",
       "\n",
       "       [[['g', 'h', 'i'],\n",
       "         ['g', 'h', 'i'],\n",
       "         ['g', 'h', 'i']],\n",
       "\n",
       "        [['g', 'h', 'i'],\n",
       "         ['g', 'h', 'i'],\n",
       "         ['g', 'h', 'i']],\n",
       "\n",
       "        [['g', 'h', 'i'],\n",
       "         ['g', 'h', 'i'],\n",
       "         ['g', 'h', 'i']]]], dtype='<U1')"
      ]
     },
     "execution_count": 7,
     "metadata": {},
     "output_type": "execute_result"
    }
   ],
   "source": [
    "numpy.array(numpy.meshgrid(*tet))"
   ]
  },
  {
   "cell_type": "code",
   "execution_count": 8,
   "metadata": {},
   "outputs": [
    {
     "data": {
      "text/plain": [
       "array([[[['a', 'd', 'g'],\n",
       "         ['a', 'e', 'g'],\n",
       "         ['a', 'f', 'g']],\n",
       "\n",
       "        [['b', 'd', 'g'],\n",
       "         ['b', 'e', 'g'],\n",
       "         ['b', 'f', 'g']],\n",
       "\n",
       "        [['c', 'd', 'g'],\n",
       "         ['c', 'e', 'g'],\n",
       "         ['c', 'f', 'g']]],\n",
       "\n",
       "\n",
       "       [[['a', 'd', 'h'],\n",
       "         ['a', 'e', 'h'],\n",
       "         ['a', 'f', 'h']],\n",
       "\n",
       "        [['b', 'd', 'h'],\n",
       "         ['b', 'e', 'h'],\n",
       "         ['b', 'f', 'h']],\n",
       "\n",
       "        [['c', 'd', 'h'],\n",
       "         ['c', 'e', 'h'],\n",
       "         ['c', 'f', 'h']]],\n",
       "\n",
       "\n",
       "       [[['a', 'd', 'i'],\n",
       "         ['a', 'e', 'i'],\n",
       "         ['a', 'f', 'i']],\n",
       "\n",
       "        [['b', 'd', 'i'],\n",
       "         ['b', 'e', 'i'],\n",
       "         ['b', 'f', 'i']],\n",
       "\n",
       "        [['c', 'd', 'i'],\n",
       "         ['c', 'e', 'i'],\n",
       "         ['c', 'f', 'i']]]], dtype='<U1')"
      ]
     },
     "execution_count": 8,
     "metadata": {},
     "output_type": "execute_result"
    }
   ],
   "source": [
    "numpy.array(numpy.meshgrid(*tet)).T"
   ]
  },
  {
   "cell_type": "code",
   "execution_count": 14,
   "metadata": {},
   "outputs": [
    {
     "data": {
      "text/plain": [
       "array([['a', 'd', 'g'],\n",
       "       ['a', 'e', 'g'],\n",
       "       ['a', 'f', 'g'],\n",
       "       ['b', 'd', 'g'],\n",
       "       ['b', 'e', 'g'],\n",
       "       ['b', 'f', 'g'],\n",
       "       ['c', 'd', 'g'],\n",
       "       ['c', 'e', 'g'],\n",
       "       ['c', 'f', 'g'],\n",
       "       ['a', 'd', 'h'],\n",
       "       ['a', 'e', 'h'],\n",
       "       ['a', 'f', 'h'],\n",
       "       ['b', 'd', 'h'],\n",
       "       ['b', 'e', 'h'],\n",
       "       ['b', 'f', 'h'],\n",
       "       ['c', 'd', 'h'],\n",
       "       ['c', 'e', 'h'],\n",
       "       ['c', 'f', 'h'],\n",
       "       ['a', 'd', 'i'],\n",
       "       ['a', 'e', 'i'],\n",
       "       ['a', 'f', 'i'],\n",
       "       ['b', 'd', 'i'],\n",
       "       ['b', 'e', 'i'],\n",
       "       ['b', 'f', 'i'],\n",
       "       ['c', 'd', 'i'],\n",
       "       ['c', 'e', 'i'],\n",
       "       ['c', 'f', 'i']], dtype='<U1')"
      ]
     },
     "execution_count": 14,
     "metadata": {},
     "output_type": "execute_result"
    }
   ],
   "source": [
    "numpy.array(numpy.meshgrid(*tet)).T.reshape(-1,len(tet))"
   ]
  },
  {
   "cell_type": "code",
   "execution_count": 58,
   "metadata": {},
   "outputs": [],
   "source": [
    "# De Quy\n",
    "def letterCombinations2(digits: str):\n",
    "    result = []\n",
    "    \n",
    "    def combine(current, left_over_digits):\n",
    "        if not left_over_digits:\n",
    "            result.append(current)\n",
    "        else:\n",
    "            for char in qwerty_nums[left_over_digits[0]]:\n",
    "                combine(current + char, left_over_digits[1:])\n",
    "    \n",
    "    if digits:\n",
    "        combine(\"\", digits)\n",
    "        \n",
    "    return result"
   ]
  },
  {
   "cell_type": "code",
   "execution_count": 60,
   "metadata": {},
   "outputs": [
    {
     "data": {
      "text/plain": [
       "[]"
      ]
     },
     "execution_count": 60,
     "metadata": {},
     "output_type": "execute_result"
    }
   ],
   "source": [
    "letterCombinations2('')"
   ]
  },
  {
   "cell_type": "code",
   "execution_count": null,
   "metadata": {},
   "outputs": [],
   "source": []
  }
 ],
 "metadata": {
  "kernelspec": {
   "display_name": "Python 3",
   "language": "python",
   "name": "python3"
  },
  "language_info": {
   "codemirror_mode": {
    "name": "ipython",
    "version": 3
   },
   "file_extension": ".py",
   "mimetype": "text/x-python",
   "name": "python",
   "nbconvert_exporter": "python",
   "pygments_lexer": "ipython3",
   "version": "3.8.5"
  }
 },
 "nbformat": 4,
 "nbformat_minor": 4
}
