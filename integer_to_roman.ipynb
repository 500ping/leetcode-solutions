{
 "cells": [
  {
   "cell_type": "code",
   "execution_count": 14,
   "metadata": {},
   "outputs": [],
   "source": [
    "def intToRoman(num: int) -> str:\n",
    "    roman_nums = {\n",
    "        1: 'I', \n",
    "        5: 'V', \n",
    "        10: 'X', \n",
    "        50: 'L', \n",
    "        100: 'C', \n",
    "        500: 'D', \n",
    "        1000: 'M', \n",
    "    }\n",
    "    \n",
    "    if num in roman_nums.keys():\n",
    "        return roman_nums[num]\n",
    "    \n",
    "    result = ''\n",
    "    \n",
    "    num = num_split(num)\n",
    "    place = 1\n",
    "    \n",
    "    for n in num:\n",
    "        if n < 4:\n",
    "            result += (roman_nums[1 * place] * n)[::-1]\n",
    "        elif n == 4: \n",
    "            result += (roman_nums[1 * place] + roman_nums[5 * place])[::-1]\n",
    "        elif n == 5:\n",
    "            result += roman_nums[5 * place][::-1]\n",
    "        elif 5 < n < 9:\n",
    "            result += (roman_nums[5 * place] + roman_nums[1 * place] * (n - 5))[::-1]\n",
    "        elif n == 9:\n",
    "            result += (roman_nums[1 * place] + roman_nums[10 * place])[::-1]\n",
    "        place *= 10\n",
    "\n",
    "    \n",
    "    return result[::-1]"
   ]
  },
  {
   "cell_type": "code",
   "execution_count": 15,
   "metadata": {},
   "outputs": [],
   "source": [
    "def num_split(num):\n",
    "    result = []\n",
    "    n = 1 \n",
    "    while num >= 1:\n",
    "        result.append((num % 10) * n)\n",
    "        num //= 10\n",
    "    return result"
   ]
  },
  {
   "cell_type": "code",
   "execution_count": 18,
   "metadata": {},
   "outputs": [
    {
     "data": {
      "text/plain": [
       "'MCMXCIV'"
      ]
     },
     "execution_count": 18,
     "metadata": {},
     "output_type": "execute_result"
    }
   ],
   "source": [
    "intToRoman(1994)"
   ]
  },
  {
   "cell_type": "code",
   "execution_count": 4,
   "metadata": {},
   "outputs": [
    {
     "data": {
      "text/plain": [
       "[3, 1]"
      ]
     },
     "execution_count": 4,
     "metadata": {},
     "output_type": "execute_result"
    }
   ],
   "source": [
    "num_split(13)"
   ]
  },
  {
   "cell_type": "code",
   "execution_count": null,
   "metadata": {},
   "outputs": [],
   "source": []
  },
  {
   "cell_type": "code",
   "execution_count": null,
   "metadata": {},
   "outputs": [],
   "source": []
  }
 ],
 "metadata": {
  "kernelspec": {
   "display_name": "Python 3",
   "language": "python",
   "name": "python3"
  },
  "language_info": {
   "codemirror_mode": {
    "name": "ipython",
    "version": 3
   },
   "file_extension": ".py",
   "mimetype": "text/x-python",
   "name": "python",
   "nbconvert_exporter": "python",
   "pygments_lexer": "ipython3",
   "version": "3.8.5"
  }
 },
 "nbformat": 4,
 "nbformat_minor": 4
}
