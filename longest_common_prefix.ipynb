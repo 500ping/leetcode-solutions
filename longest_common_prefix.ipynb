{
 "cells": [
  {
   "cell_type": "code",
   "execution_count": 5,
   "metadata": {},
   "outputs": [],
   "source": [
    "def longestCommonPrefix(strs) -> str:\n",
    "    result = ''\n",
    "    \n",
    "    if len(strs) == 0:\n",
    "        return result\n",
    "    \n",
    "    longest_str = min(strs, key=len)\n",
    "    \n",
    "    index = 0\n",
    "    for c in longest_str:\n",
    "        for string in strs:\n",
    "            if string[index] != c:\n",
    "                index = -99\n",
    "                break\n",
    "        if index < 0:\n",
    "            break\n",
    "        result += c\n",
    "        index += 1\n",
    "        \n",
    "    \n",
    "    return result"
   ]
  },
  {
   "cell_type": "code",
   "execution_count": 6,
   "metadata": {},
   "outputs": [
    {
     "data": {
      "text/plain": [
       "''"
      ]
     },
     "execution_count": 6,
     "metadata": {},
     "output_type": "execute_result"
    }
   ],
   "source": [
    "strs = ['', 'b']\n",
    "longestCommonPrefix(strs)"
   ]
  },
  {
   "cell_type": "code",
   "execution_count": null,
   "metadata": {},
   "outputs": [],
   "source": []
  }
 ],
 "metadata": {
  "kernelspec": {
   "display_name": "Python 3",
   "language": "python",
   "name": "python3"
  },
  "language_info": {
   "codemirror_mode": {
    "name": "ipython",
    "version": 3
   },
   "file_extension": ".py",
   "mimetype": "text/x-python",
   "name": "python",
   "nbconvert_exporter": "python",
   "pygments_lexer": "ipython3",
   "version": "3.8.5"
  }
 },
 "nbformat": 4,
 "nbformat_minor": 4
}
